{
  "nbformat": 4,
  "nbformat_minor": 0,
  "metadata": {
    "colab": {
      "name": "Untitled7.ipynb",
      "provenance": [],
      "include_colab_link": true
    },
    "kernelspec": {
      "name": "python3",
      "display_name": "Python 3"
    }
  },
  "cells": [
    {
      "cell_type": "markdown",
      "metadata": {
        "id": "view-in-github",
        "colab_type": "text"
      },
      "source": [
        "<a href=\"https://colab.research.google.com/github/scbadkas19/NLP/blob/master/nthprimenumber.ipynb\" target=\"_parent\"><img src=\"https://colab.research.google.com/assets/colab-badge.svg\" alt=\"Open In Colab\"/></a>"
      ]
    },
    {
      "cell_type": "code",
      "metadata": {
        "id": "HWPoGRyfG7Y1",
        "colab_type": "code",
        "colab": {}
      },
      "source": [
        "def nth_prime_number(n):\n",
        "    if n==1:\n",
        "        return 2\n",
        "    count = 1\n",
        "    num = 1\n",
        "    while(count < n):\n",
        "        num +=2 #optimization\n",
        "        if is_prime(num):\n",
        "            count +=1\n",
        "    return num\n",
        "\n",
        "def is_prime(num):\n",
        "    factor = 2\n",
        "    while (factor * factor <= num):\n",
        "        if num % factor == 0:\n",
        "             return False\n",
        "        factor +=1\n",
        "    return True"
      ],
      "execution_count": 0,
      "outputs": []
    },
    {
      "cell_type": "code",
      "metadata": {
        "id": "P0_FrRwmHuUm",
        "colab_type": "code",
        "colab": {
          "base_uri": "https://localhost:8080/",
          "height": 128
        },
        "outputId": "29ea1689-ed6f-4ea8-ab5d-64b0effc2aa2"
      },
      "source": [
        "print n"
      ],
      "execution_count": 3,
      "outputs": [
        {
          "output_type": "error",
          "ename": "SyntaxError",
          "evalue": "ignored",
          "traceback": [
            "\u001b[0;36m  File \u001b[0;32m\"<ipython-input-3-f59b73ad6832>\"\u001b[0;36m, line \u001b[0;32m1\u001b[0m\n\u001b[0;31m    print num\u001b[0m\n\u001b[0m            ^\u001b[0m\n\u001b[0;31mSyntaxError\u001b[0m\u001b[0;31m:\u001b[0m Missing parentheses in call to 'print'. Did you mean print(num)?\n"
          ]
        }
      ]
    }
  ]
}